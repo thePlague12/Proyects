{
  "nbformat": 4,
  "nbformat_minor": 0,
  "metadata": {
    "colab": {
      "name": "Untitled0.ipynb",
      "provenance": [],
      "collapsed_sections": [],
      "authorship_tag": "ABX9TyOGgKg405U5n4dRKIodM/0k",
      "include_colab_link": true
    },
    "kernelspec": {
      "name": "python3",
      "display_name": "Python 3"
    },
    "language_info": {
      "name": "python"
    }
  },
  "cells": [
    {
      "cell_type": "markdown",
      "metadata": {
        "id": "view-in-github",
        "colab_type": "text"
      },
      "source": [
        "<a href=\"https://colab.research.google.com/github/thePlague12/Proyects/blob/main/Untitled0.ipynb\" target=\"_parent\"><img src=\"https://colab.research.google.com/assets/colab-badge.svg\" alt=\"Open In Colab\"/></a>"
      ]
    },
    {
      "cell_type": "code",
      "metadata": {
        "id": "kK3yi_ppCZUV"
      },
      "source": [
        "import tensorflow as tf\n",
        "import numpy as np"
      ],
      "execution_count": 46,
      "outputs": []
    },
    {
      "cell_type": "code",
      "metadata": {
        "id": "U61IvnOSDTlg"
      },
      "source": [
        "celsius=np.array([-40,-10,0,8,15,22,38], dtype=float)\n",
        "fahrenheit=np.array([-40, 14,32,46,59,72,100], dtype=float)"
      ],
      "execution_count": 47,
      "outputs": []
    },
    {
      "cell_type": "code",
      "metadata": {
        "id": "IVYQTEpUEIsX"
      },
      "source": [
        "#capa=tf.keras.layers.Dense(units=1,input_shape=[1])#red de solo una capa de entrada y una capa de salida\n",
        "#modelo= tf.keras.Sequential([capa]) # definicion de modelo, en este caso es un modelo secuancial\n",
        "\n",
        "oculta1=tf.keras.layers.Dense(units=3, input_shape=[1])\n",
        "oculta2=tf.keras.layers.Dense(units=3)\n",
        "salida=tf.keras.layers.Dense(units=1)\n",
        "modelo=tf.keras.Sequential([oculta1,oculta2,salida])\n"
      ],
      "execution_count": 58,
      "outputs": []
    },
    {
      "cell_type": "code",
      "metadata": {
        "id": "42apMFV-FL9S"
      },
      "source": [
        "modelo.compile( #especificacion de compilacion del modelo, esto con el fin de definir el modelo a compilar\n",
        "    optimizer=tf.keras.optimizers.Adam(0.1),\n",
        "    loss='mean_squared_error'\n",
        ")"
      ],
      "execution_count": 60,
      "outputs": []
    },
    {
      "cell_type": "code",
      "metadata": {
        "colab": {
          "base_uri": "https://localhost:8080/"
        },
        "id": "lK3U1dU1Fe1y",
        "outputId": "a48c3f41-b61d-452f-bc26-cff5bf61933e"
      },
      "source": [
        "print(\"comenzando entrenamiento\")\n",
        "historial = modelo.fit(celsius,fahrenheit,epochs=1000, verbose=False)\n",
        "print(\"Modelo ENTRENADO\")"
      ],
      "execution_count": 61,
      "outputs": [
        {
          "output_type": "stream",
          "name": "stdout",
          "text": [
            "comenzando entrenamiento\n",
            "Modelo ENTRENADO\n"
          ]
        }
      ]
    },
    {
      "cell_type": "code",
      "metadata": {
        "colab": {
          "base_uri": "https://localhost:8080/",
          "height": 296
        },
        "id": "10yp-euWF6PM",
        "outputId": "73d249f6-72b4-43eb-857a-10a0fb1aa03b"
      },
      "source": [
        "import matplotlib.pyplot as plt\n",
        "plt.xlabel(\"Epoca\")\n",
        "plt.ylabel(\"Magnitud de perdida\")\n",
        "plt.plot(historial.history[\"loss\"])"
      ],
      "execution_count": 62,
      "outputs": [
        {
          "output_type": "execute_result",
          "data": {
            "text/plain": [
              "[<matplotlib.lines.Line2D at 0x7fe70427a810>]"
            ]
          },
          "metadata": {},
          "execution_count": 62
        },
        {
          "output_type": "display_data",
          "data": {
            "image/png": "[encoded data removed]",
            "text/plain": [
              "<Figure size 432x288 with 1 Axes>"
            ]
          },
          "metadata": {
            "needs_background": "light"
          }
        }
      ]
    },
    {
      "cell_type": "code",
      "metadata": {
        "colab": {
          "base_uri": "https://localhost:8080/"
        },
        "id": "7tVYCvUKGbyy",
        "outputId": "2d626187-53c1-4441-cdfe-9dfe05e1cdf3"
      },
      "source": [
        "print (\"Prueba de prediccion\")\n",
        "resultado=modelo.predict([100.0])\n",
        "print (\"El resultado es \" + str(resultado) + \"°F\")"
      ],
      "execution_count": 63,
      "outputs": [
        {
          "output_type": "stream",
          "name": "stdout",
          "text": [
            "Prueba de prediccion\n",
            "El resultado es [[211.74742]]°F\n"
          ]
        }
      ]
    },
    {
      "cell_type": "code",
      "metadata": {
        "colab": {
          "base_uri": "https://localhost:8080/"
        },
        "id": "HtG_8COSG2vs",
        "outputId": "18f47d16-4c78-4e98-c6a1-7454d8eaf6ae"
      },
      "source": [
        "print(\"Variables de pesos asignadas al modelo: \")\n",
        "print(oculta1.get_weights())\n",
        "print(oculta2.get_weights())\n",
        "print(salida.get_weights())\n"
      ],
      "execution_count": 65,
      "outputs": [
        {
          "output_type": "stream",
          "name": "stdout",
          "text": [
            "Variables de pesos asignadas al modelo: \n",
            "[array([[-0.14884225,  0.5377566 , -0.3909171 ]], dtype=float32), array([ 2.8022287,  3.4491875, -3.4590428], dtype=float32)]\n",
            "[array([[ 1.1429584 , -0.1493246 , -0.04873403],\n",
            "       [ 0.98305875, -0.3179769 , -1.0003833 ],\n",
            "       [-0.7715309 ,  0.06953481,  0.59346116]], dtype=float32), array([ 3.38187  , -1.6351764, -3.4060717], dtype=float32)]\n",
            "[array([[ 1.4306614 ],\n",
            "       [-0.38086736],\n",
            "       [-1.0312163 ]], dtype=float32), array([3.2431197], dtype=float32)]\n"
          ]
        }
      ]
    }
  ]
}